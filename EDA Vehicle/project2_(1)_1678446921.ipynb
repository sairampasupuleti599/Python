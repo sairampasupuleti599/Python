{
 "cells": [
  {
   "cell_type": "markdown",
   "id": "d7d7ac9f",
   "metadata": {},
   "source": [
    "## Question 1 Answer"
   ]
  },
  {
   "cell_type": "code",
   "execution_count": 84,
   "id": "1c67f8fd",
   "metadata": {
    "scrolled": true
   },
   "outputs": [
    {
     "name": "stdout",
     "output_type": "stream",
     "text": [
      "        customer_id  annual premium(in Rs)  sales channel code  vintage  \\\n",
      "0               1.0                40454.0                26.0    217.0   \n",
      "1               2.0                33536.0                26.0    183.0   \n",
      "2               3.0                38294.0                26.0     27.0   \n",
      "3               4.0                28619.0               152.0    203.0   \n",
      "4               5.0                27496.0               152.0     39.0   \n",
      "...             ...                    ...                 ...      ...   \n",
      "381104     381105.0                30170.0                26.0     88.0   \n",
      "381105     381106.0                40016.0               152.0    131.0   \n",
      "381106     381107.0                35118.0               160.0    161.0   \n",
      "381107     381108.0                44617.0               124.0     74.0   \n",
      "381108     381109.0                41777.0                26.0    237.0   \n",
      "\n",
      "        response  \n",
      "0            1.0  \n",
      "1            0.0  \n",
      "2            1.0  \n",
      "3            0.0  \n",
      "4            0.0  \n",
      "...          ...  \n",
      "381104       0.0  \n",
      "381105       0.0  \n",
      "381106       0.0  \n",
      "381107       0.0  \n",
      "381108       0.0  \n",
      "\n",
      "[381109 rows x 5 columns]\n"
     ]
    }
   ],
   "source": [
    "import pandas as pd\n",
    "import numpy as np\n",
    "df = pd.read_csv('customer_policy_details.csv')\n",
    "df.columns = ['customer_id','annual premium(in Rs)','sales channel code','vintage','response']\n",
    "#csvFile.columns = ['number','customer_id','annual premium(in Rs)','sales channel code','vintage and response']\n",
    "\n",
    "print(df)\n",
    "\n"
   ]
  },
  {
   "cell_type": "code",
   "execution_count": 85,
   "id": "f2a932ad",
   "metadata": {},
   "outputs": [
    {
     "name": "stdout",
     "output_type": "stream",
     "text": [
      "        customer_id  Gender   age  driving licence present  region code  \\\n",
      "0               1.0    Male  44.0                      1.0         28.0   \n",
      "1               2.0    Male  76.0                      1.0          3.0   \n",
      "2               3.0    Male  47.0                      1.0         28.0   \n",
      "3               4.0    Male  21.0                      1.0         11.0   \n",
      "4               5.0  Female  29.0                      1.0         41.0   \n",
      "...             ...     ...   ...                      ...          ...   \n",
      "381104     381105.0    Male  74.0                      1.0         26.0   \n",
      "381105     381106.0    Male  30.0                      1.0         37.0   \n",
      "381106     381107.0    Male  21.0                      1.0         30.0   \n",
      "381107     381108.0  Female  68.0                      1.0         14.0   \n",
      "381108     381109.0    Male  46.0                      1.0         29.0   \n",
      "\n",
      "        previously insured vehicle age vehicle damage  \n",
      "0                      0.0   > 2 Years            Yes  \n",
      "1                      0.0    1-2 Year             No  \n",
      "2                      0.0   > 2 Years            Yes  \n",
      "3                      1.0    < 1 Year             No  \n",
      "4                      1.0    < 1 Year             No  \n",
      "...                    ...         ...            ...  \n",
      "381104                 1.0    1-2 Year             No  \n",
      "381105                 1.0    < 1 Year             No  \n",
      "381106                 1.0    < 1 Year             No  \n",
      "381107                 0.0   > 2 Years            Yes  \n",
      "381108                 0.0    1-2 Year             No  \n",
      "\n",
      "[381109 rows x 8 columns]\n"
     ]
    }
   ],
   "source": [
    "csvFile1 = pd.read_csv('customer_details.csv')\n",
    "csvFile1.columns = ['customer_id','Gender','age','driving licence present','region code','previously insured','vehicle age','vehicle damage']\n",
    "print(csvFile1)"
   ]
  },
  {
   "cell_type": "markdown",
   "id": "95e748c6",
   "metadata": {},
   "source": [
    "## Question 2 Answer"
   ]
  },
  {
   "cell_type": "code",
   "execution_count": 67,
   "id": "17f0522e",
   "metadata": {},
   "outputs": [
    {
     "name": "stdout",
     "output_type": "stream",
     "text": [
      "380723\n",
      "Total NO of Null values in the customer details is: customer_id                386\n",
      "Gender                     368\n",
      "age                        368\n",
      "driving licence present    393\n",
      "region code                392\n",
      "previously insured         381\n",
      "vehicle age                381\n",
      "vehicle damage             407\n",
      "dtype: int64\n",
      "\n",
      "No of Null values in customer_id is  386\n",
      "\n",
      "No of Null values in Gender before replacing with mode of values is  368\n",
      "No of Null values in Gender After replacing with mode of values is  0\n",
      "\n",
      "No of Null values in Age before replacing with mean of values is  368\n",
      "No of Null values in Age before replacing with mean of values is  0\n",
      "\n",
      "No of Null values in driving licence present After replacing with mean of values is  393\n",
      "No of Null values in driving licence present After replacing with mean of values is  0\n",
      "\n",
      "No of Null values in region code Before replacing with mean of values is  392\n",
      "No of Null values in region code After replacing wwith mean of values is  0\n",
      "\n",
      "No of Null values in previously issured Before replacing with mean of values is  381\n",
      "No of Null values in previously insured After replacing with mean of values is  0\n",
      "\n",
      "No of Null values in vehicle age Before replacing with mode of values is  381\n",
      "No of Null values in vehicle age After replacing with mode of values is  0\n",
      "\n",
      "No of Null values in vehicle damage Before replacing with mode of values is  407\n",
      "No of Null values in vehicle damage After replacing with mode of values is  0\n",
      "\n"
     ]
    }
   ],
   "source": [
    "\n",
    "print(csvFile1['customer_id'].dropna().count())\n",
    "\n",
    "print('Total NO of Null values in the customer details is:',csvFile1.isnull().sum())\n",
    "print('')\n",
    "\n",
    "#print('No of Null values in column 0 is ',csvFile1['sr no'].isnull().sum().sum())\n",
    "print('No of Null values in customer_id is ',csvFile1['customer_id'].isnull().sum().sum())\n",
    "print('')\n",
    "print('No of Null values in Gender before replacing with mode of values is ',csvFile1['Gender'].isnull().sum())\n",
    "csvFile1['Gender'].fillna(csvFile1['Gender'].mode()[0] , inplace=True)\n",
    "print('No of Null values in Gender After replacing with mode of values is ',csvFile1['Gender'].isnull().sum())\n",
    "print('')\n",
    "print('No of Null values in Age before replacing with mean of values is ',csvFile1['age'].isnull().sum())\n",
    "csvFile1['age'].fillna(csvFile1['age'].mean() , inplace=True)\n",
    "print('No of Null values in Age before replacing with mean of values is ',csvFile1['age'].isnull().sum())\n",
    "print('')\n",
    "print('No of Null values in driving licence present After replacing with mean of values is ',csvFile1['driving licence present'].isnull().sum())\n",
    "csvFile1['driving licence present'].fillna(csvFile1['driving licence present'].mean() , inplace=True)\n",
    "print('No of Null values in driving licence present After replacing with mean of values is ',csvFile1['driving licence present'].isnull().sum())\n",
    "print('')\n",
    "print('No of Null values in region code Before replacing with mean of values is ',csvFile1['region code'].isnull().sum())\n",
    "csvFile1['region code'].fillna(csvFile1['region code'].mean() , inplace=True)\n",
    "print('No of Null values in region code After replacing wwith mean of values is ',csvFile1['region code'].isnull().sum())\n",
    "print('')\n",
    "print('No of Null values in previously issured Before replacing with mean of values is ',csvFile1['previously insured'].isnull().sum())\n",
    "csvFile1['previously insured'].fillna(csvFile1['previously insured'].mean() , inplace=True)\n",
    "print('No of Null values in previously insured After replacing with mean of values is ',csvFile1['region code'].isnull().sum())\n",
    "print('')\n",
    "print('No of Null values in vehicle age Before replacing with mode of values is ',csvFile1['vehicle age'].isnull().sum())\n",
    "csvFile1['vehicle age'].fillna(csvFile1['vehicle age'].mode()[0] , inplace=True)\n",
    "print('No of Null values in vehicle age After replacing with mode of values is ',csvFile1['vehicle age'].isnull().sum())\n",
    "print('')\n",
    "print('No of Null values in vehicle damage Before replacing with mode of values is ',csvFile1['vehicle damage'].isnull().sum())\n",
    "csvFile1['vehicle damage'].fillna(csvFile1['vehicle damage'].mode()[0] , inplace=True)\n",
    "print('No of Null values in vehicle damage After replacing with mode of values is ',csvFile1['vehicle damage'].isnull().sum())\n",
    "print('') \n",
    "\n",
    "\n"
   ]
  },
  {
   "cell_type": "code",
   "execution_count": 68,
   "id": "041e36f5",
   "metadata": {},
   "outputs": [
    {
     "name": "stdout",
     "output_type": "stream",
     "text": [
      "380722\n",
      "Total NO of Null values in the customer details is: 387\n",
      "\n",
      "No of Null values in annual premium(in Rs) Before replacing with mean of values is  346\n",
      "No of Null values in annual premium(in Rs) After replacing with mean of values is  0\n",
      "\n",
      "No of Null values in sales channel code Before replacing with mean of values is  400\n",
      "No of Null values in sales channel code After replacing with mean of values is  0\n",
      "\n",
      "No of Null values in vintage Before replacing with mean of values is  388\n",
      "No of Null values in vintage After replacing with mean of values is  0\n",
      "\n",
      "No of Null values in response Before replacing with mean of values is  361\n",
      "No of Null values in response After replacing with mean of values is  0\n"
     ]
    }
   ],
   "source": [
    "print(df['customer_id'].dropna().count())\n",
    "\n",
    "print('Total NO of Null values in the customer details is:',df['customer_id'].isnull().sum())\n",
    "print('')\n",
    "print('No of Null values in annual premium(in Rs) Before replacing with mean of values is ',df['annual premium(in Rs)'].isnull().sum())\n",
    "df['annual premium(in Rs)'].fillna(df['annual premium(in Rs)'].mean() , inplace=True)\n",
    "print('No of Null values in annual premium(in Rs) After replacing with mean of values is ',df['annual premium(in Rs)'].isnull().sum())\n",
    "print('')\n",
    "print('No of Null values in sales channel code Before replacing with mean of values is ',df['sales channel code'].isnull().sum())\n",
    "df['sales channel code'].fillna(df['sales channel code'].mean() , inplace=True)\n",
    "print('No of Null values in sales channel code After replacing with mean of values is ',df['sales channel code'].isnull().sum())\n",
    "print('')\n",
    "print('No of Null values in vintage Before replacing with mean of values is ',df['vintage'].isnull().sum())\n",
    "df['vintage'].fillna(df['vintage'].mean() , inplace=True)\n",
    "print('No of Null values in vintage After replacing with mean of values is ',df['vintage'].isnull().sum())\n",
    "print('')\n",
    "print('No of Null values in response Before replacing with mean of values is ',df['response'].isnull().sum())\n",
    "df['response'].fillna(df['response'].mean() , inplace=True)\n",
    "print('No of Null values in response After replacing with mean of values is ',df['response'].isnull().sum())"
   ]
  },
  {
   "cell_type": "code",
   "execution_count": 69,
   "id": "0987b1f8",
   "metadata": {},
   "outputs": [
    {
     "name": "stdout",
     "output_type": "stream",
     "text": [
      "0\n",
      "44627\n"
     ]
    }
   ],
   "source": [
    "Q1 = df.describe().loc['25%','annual premium(in Rs)']\n",
    "Q3 = df.describe().loc['75%','annual premium(in Rs)']\n",
    "IQR = Q3-Q1\n",
    "print(df.loc[df['annual premium(in Rs)']<(Q1-IQR*1.5),'annual premium(in Rs)'].count())\n",
    "print(df.loc[df['annual premium(in Rs)']>(Q1+IQR*1.5),'annual premium(in Rs)'].count())"
   ]
  },
  {
   "cell_type": "code",
   "execution_count": 70,
   "id": "f3e14d56",
   "metadata": {},
   "outputs": [
    {
     "name": "stdout",
     "output_type": "stream",
     "text": [
      "0\n"
     ]
    }
   ],
   "source": [
    "df.loc[df[\"annual premium(in Rs)\"]>(Q3+IQR*1.5),\"annual premium(in Rs)\"]=df[\"annual premium(in Rs)\"].mean()\n",
    "print(df.loc[df[\"annual premium(in Rs)\"]>(Q3+IQR*1.5),\"annual premium(in Rs)\"].count())"
   ]
  },
  {
   "cell_type": "code",
   "execution_count": 71,
   "id": "b3209f91",
   "metadata": {},
   "outputs": [
    {
     "name": "stdout",
     "output_type": "stream",
     "text": [
      "0\n",
      "0\n"
     ]
    }
   ],
   "source": [
    "Q1=df.describe().loc[\"25%\",\"vintage\"]\n",
    "Q3=df.describe().loc[\"75%\",\"vintage\"]\n",
    "IQR=Q3-Q1\n",
    "print(df.loc[df[\"vintage\"]<(Q1-IQR*1.5),\"vintage\"].count())\n",
    "print(df.loc[df[\"vintage\"]>(Q3+IQR*1.5),\"vintage\"].count())"
   ]
  },
  {
   "cell_type": "code",
   "execution_count": 72,
   "id": "44f68a72",
   "metadata": {},
   "outputs": [],
   "source": [
    "csvFile1[\"Gender\"]=csvFile1[\"Gender\"].str.strip()\n",
    "csvFile1[\"vehicle age\"]=csvFile1[\"vehicle age\"].str.strip()\n",
    "csvFile1[\"vehicle damage\"]=csvFile1[\"vehicle damage\"].str.strip()"
   ]
  },
  {
   "cell_type": "code",
   "execution_count": 81,
   "id": "cd0daf06",
   "metadata": {},
   "outputs": [],
   "source": [
    "gender=pd.get_dummies(csvFile1[\"Gender\"])\n",
    "vehicle_age=pd.get_dummies(csvFile1[\"vehicle age\"])\n",
    "lv_vehicle_damage=pd.get_dummies(csvFile1[\"vehicle damage\"])\n",
    "lv_d_l_p=pd.get_dummies(csvFile1[\"driving licence present\"])\n",
    "lv_p_i=pd.get_dummies(csvFile1[\"previously insured\"])\n",
    "lv_response=pd.get_dummies(df[\"response\"])"
   ]
  },
  {
   "cell_type": "code",
   "execution_count": 82,
   "id": "7512d68a",
   "metadata": {},
   "outputs": [
    {
     "name": "stdout",
     "output_type": "stream",
     "text": [
      "42\n",
      "0\n"
     ]
    }
   ],
   "source": [
    "print(csvFile1.duplicated().sum())\n",
    "print(df.duplicated().sum())"
   ]
  },
  {
   "cell_type": "markdown",
   "id": "07c9f23f",
   "metadata": {},
   "source": [
    "## Question 3 Answer"
   ]
  },
  {
   "cell_type": "code",
   "execution_count": 75,
   "id": "c329df07",
   "metadata": {},
   "outputs": [
    {
     "data": {
      "text/html": [
       "<div>\n",
       "<style scoped>\n",
       "    .dataframe tbody tr th:only-of-type {\n",
       "        vertical-align: middle;\n",
       "    }\n",
       "\n",
       "    .dataframe tbody tr th {\n",
       "        vertical-align: top;\n",
       "    }\n",
       "\n",
       "    .dataframe thead th {\n",
       "        text-align: right;\n",
       "    }\n",
       "</style>\n",
       "<table border=\"1\" class=\"dataframe\">\n",
       "  <thead>\n",
       "    <tr style=\"text-align: right;\">\n",
       "      <th></th>\n",
       "      <th>customer_id</th>\n",
       "      <th>Gender</th>\n",
       "      <th>age</th>\n",
       "      <th>driving licence present</th>\n",
       "      <th>region code</th>\n",
       "      <th>previously insured</th>\n",
       "      <th>vehicle age</th>\n",
       "      <th>vehicle damage</th>\n",
       "      <th>annual premium(in Rs)</th>\n",
       "      <th>sales channel code</th>\n",
       "      <th>vintage</th>\n",
       "      <th>response</th>\n",
       "    </tr>\n",
       "  </thead>\n",
       "  <tbody>\n",
       "    <tr>\n",
       "      <th>0</th>\n",
       "      <td>1.0</td>\n",
       "      <td>Male</td>\n",
       "      <td>44.0</td>\n",
       "      <td>1.0</td>\n",
       "      <td>28.0</td>\n",
       "      <td>0.0</td>\n",
       "      <td>&gt; 2 Years</td>\n",
       "      <td>Yes</td>\n",
       "      <td>40454.0</td>\n",
       "      <td>26.0</td>\n",
       "      <td>217.0</td>\n",
       "      <td>1.0</td>\n",
       "    </tr>\n",
       "    <tr>\n",
       "      <th>1</th>\n",
       "      <td>2.0</td>\n",
       "      <td>Male</td>\n",
       "      <td>76.0</td>\n",
       "      <td>1.0</td>\n",
       "      <td>3.0</td>\n",
       "      <td>0.0</td>\n",
       "      <td>1-2 Year</td>\n",
       "      <td>No</td>\n",
       "      <td>33536.0</td>\n",
       "      <td>26.0</td>\n",
       "      <td>183.0</td>\n",
       "      <td>0.0</td>\n",
       "    </tr>\n",
       "    <tr>\n",
       "      <th>2</th>\n",
       "      <td>3.0</td>\n",
       "      <td>Male</td>\n",
       "      <td>47.0</td>\n",
       "      <td>1.0</td>\n",
       "      <td>28.0</td>\n",
       "      <td>0.0</td>\n",
       "      <td>&gt; 2 Years</td>\n",
       "      <td>Yes</td>\n",
       "      <td>38294.0</td>\n",
       "      <td>26.0</td>\n",
       "      <td>27.0</td>\n",
       "      <td>1.0</td>\n",
       "    </tr>\n",
       "    <tr>\n",
       "      <th>3</th>\n",
       "      <td>4.0</td>\n",
       "      <td>Male</td>\n",
       "      <td>21.0</td>\n",
       "      <td>1.0</td>\n",
       "      <td>11.0</td>\n",
       "      <td>1.0</td>\n",
       "      <td>&lt; 1 Year</td>\n",
       "      <td>No</td>\n",
       "      <td>28619.0</td>\n",
       "      <td>152.0</td>\n",
       "      <td>203.0</td>\n",
       "      <td>0.0</td>\n",
       "    </tr>\n",
       "    <tr>\n",
       "      <th>4</th>\n",
       "      <td>5.0</td>\n",
       "      <td>Female</td>\n",
       "      <td>29.0</td>\n",
       "      <td>1.0</td>\n",
       "      <td>41.0</td>\n",
       "      <td>1.0</td>\n",
       "      <td>&lt; 1 Year</td>\n",
       "      <td>No</td>\n",
       "      <td>27496.0</td>\n",
       "      <td>152.0</td>\n",
       "      <td>39.0</td>\n",
       "      <td>0.0</td>\n",
       "    </tr>\n",
       "    <tr>\n",
       "      <th>...</th>\n",
       "      <td>...</td>\n",
       "      <td>...</td>\n",
       "      <td>...</td>\n",
       "      <td>...</td>\n",
       "      <td>...</td>\n",
       "      <td>...</td>\n",
       "      <td>...</td>\n",
       "      <td>...</td>\n",
       "      <td>...</td>\n",
       "      <td>...</td>\n",
       "      <td>...</td>\n",
       "      <td>...</td>\n",
       "    </tr>\n",
       "    <tr>\n",
       "      <th>529713</th>\n",
       "      <td>381105.0</td>\n",
       "      <td>Male</td>\n",
       "      <td>74.0</td>\n",
       "      <td>1.0</td>\n",
       "      <td>26.0</td>\n",
       "      <td>1.0</td>\n",
       "      <td>1-2 Year</td>\n",
       "      <td>No</td>\n",
       "      <td>30170.0</td>\n",
       "      <td>26.0</td>\n",
       "      <td>88.0</td>\n",
       "      <td>0.0</td>\n",
       "    </tr>\n",
       "    <tr>\n",
       "      <th>529714</th>\n",
       "      <td>381106.0</td>\n",
       "      <td>Male</td>\n",
       "      <td>30.0</td>\n",
       "      <td>1.0</td>\n",
       "      <td>37.0</td>\n",
       "      <td>1.0</td>\n",
       "      <td>&lt; 1 Year</td>\n",
       "      <td>No</td>\n",
       "      <td>40016.0</td>\n",
       "      <td>152.0</td>\n",
       "      <td>131.0</td>\n",
       "      <td>0.0</td>\n",
       "    </tr>\n",
       "    <tr>\n",
       "      <th>529715</th>\n",
       "      <td>381107.0</td>\n",
       "      <td>Male</td>\n",
       "      <td>21.0</td>\n",
       "      <td>1.0</td>\n",
       "      <td>30.0</td>\n",
       "      <td>1.0</td>\n",
       "      <td>&lt; 1 Year</td>\n",
       "      <td>No</td>\n",
       "      <td>35118.0</td>\n",
       "      <td>160.0</td>\n",
       "      <td>161.0</td>\n",
       "      <td>0.0</td>\n",
       "    </tr>\n",
       "    <tr>\n",
       "      <th>529716</th>\n",
       "      <td>381108.0</td>\n",
       "      <td>Female</td>\n",
       "      <td>68.0</td>\n",
       "      <td>1.0</td>\n",
       "      <td>14.0</td>\n",
       "      <td>0.0</td>\n",
       "      <td>&gt; 2 Years</td>\n",
       "      <td>Yes</td>\n",
       "      <td>44617.0</td>\n",
       "      <td>124.0</td>\n",
       "      <td>74.0</td>\n",
       "      <td>0.0</td>\n",
       "    </tr>\n",
       "    <tr>\n",
       "      <th>529717</th>\n",
       "      <td>381109.0</td>\n",
       "      <td>Male</td>\n",
       "      <td>46.0</td>\n",
       "      <td>1.0</td>\n",
       "      <td>29.0</td>\n",
       "      <td>0.0</td>\n",
       "      <td>1-2 Year</td>\n",
       "      <td>No</td>\n",
       "      <td>41777.0</td>\n",
       "      <td>26.0</td>\n",
       "      <td>237.0</td>\n",
       "      <td>0.0</td>\n",
       "    </tr>\n",
       "  </tbody>\n",
       "</table>\n",
       "<p>529718 rows × 12 columns</p>\n",
       "</div>"
      ],
      "text/plain": [
       "        customer_id  Gender   age  driving licence present  region code  \\\n",
       "0               1.0    Male  44.0                      1.0         28.0   \n",
       "1               2.0    Male  76.0                      1.0          3.0   \n",
       "2               3.0    Male  47.0                      1.0         28.0   \n",
       "3               4.0    Male  21.0                      1.0         11.0   \n",
       "4               5.0  Female  29.0                      1.0         41.0   \n",
       "...             ...     ...   ...                      ...          ...   \n",
       "529713     381105.0    Male  74.0                      1.0         26.0   \n",
       "529714     381106.0    Male  30.0                      1.0         37.0   \n",
       "529715     381107.0    Male  21.0                      1.0         30.0   \n",
       "529716     381108.0  Female  68.0                      1.0         14.0   \n",
       "529717     381109.0    Male  46.0                      1.0         29.0   \n",
       "\n",
       "        previously insured vehicle age vehicle damage  annual premium(in Rs)  \\\n",
       "0                      0.0   > 2 Years            Yes                40454.0   \n",
       "1                      0.0    1-2 Year             No                33536.0   \n",
       "2                      0.0   > 2 Years            Yes                38294.0   \n",
       "3                      1.0    < 1 Year             No                28619.0   \n",
       "4                      1.0    < 1 Year             No                27496.0   \n",
       "...                    ...         ...            ...                    ...   \n",
       "529713                 1.0    1-2 Year             No                30170.0   \n",
       "529714                 1.0    < 1 Year             No                40016.0   \n",
       "529715                 1.0    < 1 Year             No                35118.0   \n",
       "529716                 0.0   > 2 Years            Yes                44617.0   \n",
       "529717                 0.0    1-2 Year             No                41777.0   \n",
       "\n",
       "        sales channel code  vintage  response  \n",
       "0                     26.0    217.0       1.0  \n",
       "1                     26.0    183.0       0.0  \n",
       "2                     26.0     27.0       1.0  \n",
       "3                    152.0    203.0       0.0  \n",
       "4                    152.0     39.0       0.0  \n",
       "...                    ...      ...       ...  \n",
       "529713                26.0     88.0       0.0  \n",
       "529714               152.0    131.0       0.0  \n",
       "529715               160.0    161.0       0.0  \n",
       "529716               124.0     74.0       0.0  \n",
       "529717                26.0    237.0       0.0  \n",
       "\n",
       "[529718 rows x 12 columns]"
      ]
     },
     "execution_count": 75,
     "metadata": {},
     "output_type": "execute_result"
    }
   ],
   "source": [
    "master_df = pd.merge(csvFile1,df,on='customer_id')\n",
    "master_df"
   ]
  },
  {
   "cell_type": "markdown",
   "id": "b2def61f",
   "metadata": {},
   "source": [
    "## Question 4 Answer"
   ]
  },
  {
   "cell_type": "code",
   "execution_count": 76,
   "id": "5d3ebb71",
   "metadata": {},
   "outputs": [
    {
     "name": "stdout",
     "output_type": "stream",
     "text": [
      "Average of\n",
      "Gender\n",
      "Female    29139.213600\n",
      "Male      29174.756139\n",
      "Name: annual premium(in Rs), dtype: float64\n"
     ]
    }
   ],
   "source": [
    "#Gender wise average annual premium \n",
    "gender_df=master_df.groupby([\"Gender\"])[\"annual premium(in Rs)\"].sum()\n",
    "gender_df1=master_df.groupby([\"Gender\"])[\"annual premium(in Rs)\"].count()\n",
    "g_df=gender_df/gender_df1\n",
    "print('Average of')\n",
    "print(g_df)"
   ]
  },
  {
   "cell_type": "code",
   "execution_count": 77,
   "id": "ab804dd0",
   "metadata": {},
   "outputs": [
    {
     "name": "stdout",
     "output_type": "stream",
     "text": [
      "Gender\n",
      "Female    7.080363e+09\n",
      "Male      8.365395e+09\n",
      "Name: annual premium(in Rs), dtype: float64\n"
     ]
    }
   ],
   "source": [
    "\n",
    "print(gender_df)"
   ]
  },
  {
   "cell_type": "code",
   "execution_count": 78,
   "id": "9cd141aa",
   "metadata": {},
   "outputs": [
    {
     "name": "stdout",
     "output_type": "stream",
     "text": [
      "Average of\n",
      "age\n",
      "20.0    26924.911770\n",
      "21.0    29467.356953\n",
      "22.0    29554.282038\n",
      "23.0    29605.609511\n",
      "24.0    29704.870469\n",
      "            ...     \n",
      "81.0    29287.894657\n",
      "82.0    36480.575871\n",
      "83.0    28995.804558\n",
      "84.0    35440.818182\n",
      "85.0    26637.427298\n",
      "Name: annual premium(in Rs), Length: 67, dtype: float64\n",
      "\n",
      "Average of\n",
      "vehicle age\n",
      "1-2 Year     29016.074654\n",
      "< 1 Year     29077.789203\n",
      "> 2 Years    31784.067869\n",
      "Name: annual premium(in Rs), dtype: float64\n"
     ]
    }
   ],
   "source": [
    "age_df=master_df.groupby([\"age\"])[\"annual premium(in Rs)\"].mean()\n",
    "print('Average of')\n",
    "print(age_df)\n",
    "#vehicle age wise average annual premium \n",
    "print('')\n",
    "vehicle_age_df=master_df.groupby([\"vehicle age\"])[\"annual premium(in Rs)\"].mean()\n",
    "print('Average of')\n",
    "print(vehicle_age_df)"
   ]
  },
  {
   "cell_type": "markdown",
   "id": "9d3d0347",
   "metadata": {},
   "source": [
    "## The Data is balanced between the two genders there values are almost similar"
   ]
  },
  {
   "cell_type": "markdown",
   "id": "612ca6ea",
   "metadata": {},
   "source": [
    "## 5 Question Answer"
   ]
  },
  {
   "cell_type": "code",
   "execution_count": 79,
   "id": "4b9674d5",
   "metadata": {},
   "outputs": [
    {
     "name": "stdout",
     "output_type": "stream",
     "text": [
      "0.03627882392885165\n"
     ]
    }
   ],
   "source": [
    "Corr_coef=master_df[\"age\"].corr(master_df[\"annual premium(in Rs)\"])\n",
    "print(Corr_coef)"
   ]
  },
  {
   "cell_type": "code",
   "execution_count": 80,
   "id": "67d8c1df",
   "metadata": {},
   "outputs": [
    {
     "name": "stdout",
     "output_type": "stream",
     "text": [
      "There is no relationship\n"
     ]
    }
   ],
   "source": [
    "if Corr_coef < -0.5:\n",
    "    print('Strong Negative Relationship')\n",
    "elif Corr_coef > 0.5:\n",
    "    print('Strong Postive Relationship')\n",
    "else :    \n",
    "    print('There is no relationship')"
   ]
  },
  {
   "cell_type": "code",
   "execution_count": null,
   "id": "f0811e79",
   "metadata": {},
   "outputs": [],
   "source": []
  }
 ],
 "metadata": {
  "kernelspec": {
   "display_name": "Python 3 (ipykernel)",
   "language": "python",
   "name": "python3"
  },
  "language_info": {
   "codemirror_mode": {
    "name": "ipython",
    "version": 3
   },
   "file_extension": ".py",
   "mimetype": "text/x-python",
   "name": "python",
   "nbconvert_exporter": "python",
   "pygments_lexer": "ipython3",
   "version": "3.9.13"
  }
 },
 "nbformat": 4,
 "nbformat_minor": 5
}
