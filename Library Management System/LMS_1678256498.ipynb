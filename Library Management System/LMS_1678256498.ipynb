{
 "cells": [
  {
   "cell_type": "code",
   "execution_count": 1,
   "id": "251e60a9",
   "metadata": {},
   "outputs": [],
   "source": [
    "from tkinter import *\n",
    "import sqlite3\n",
    "import tkinter.ttk as ttk\n",
    "import tkinter.messagebox as tkMessageBox"
   ]
  },
  {
   "cell_type": "code",
   "execution_count": 2,
   "id": "06112ddf",
   "metadata": {},
   "outputs": [
    {
     "data": {
      "text/plain": [
       "''"
      ]
     },
     "execution_count": 2,
     "metadata": {},
     "output_type": "execute_result"
    }
   ],
   "source": [
    "Root = Tk()\n",
    "Root.title('A library Application..!')\n",
    "Root.geometry(\"1400x900\")"
   ]
  },
  {
   "cell_type": "code",
   "execution_count": 3,
   "id": "8b73216f",
   "metadata": {},
   "outputs": [],
   "source": [
    "def Database():\n",
    "    global conn, cursor\n",
    "    conn = sqlite3.connect('Libb.db')\n",
    "    cursor = conn.cursor()\n",
    "    cursor.execute('Create Table If not exists Library(BookTitle TEXT,Author TEXT, Year INTEGER, Isbn TEXT,Bookst TEXT,Cardno TEXT)')\n",
    "    \n",
    "def create():\n",
    "    if BOOKTITLE.get() == '' or AUTHOR.get() == '' or YEAR.get() == '' or ISBN.get() == '':\n",
    "        txt_result.config(text='Please Enter all the Fields',fg='red')\n",
    "    else:\n",
    "        Database()\n",
    "        cursor.execute('INSERT INTO Library(BookTitle, Author, Year, Isbn) Values (?,?,?,?)',(str(BOOKTITLE.get()),str(AUTHOR.get()),int(YEAR.get()),str(ISBN.get())))\n",
    "        conn.commit()\n",
    "        BOOKTITLE.set(\"\")\n",
    "        AUTHOR.set(\"\")\n",
    "        YEAR.set(\"\")\n",
    "        ISBN.set(\"\")\n",
    "        cursor.close()\n",
    "        conn.close()\n",
    "        txt_result.config(text=\"Record Added Successfully\",fg=\"green\")\n",
    "\n",
    "def search():\n",
    "    tree.delete(*tree.get_children())\n",
    "    Database()\n",
    "    if BOOKTITLE.get() != '':\n",
    "\n",
    "        cursor.execute(\"Select * from library Where BookTitle=?\",(str(BookTitle.get()),))\n",
    "        fetch = cursor.fetchall()\n",
    "        for data in fetch:\n",
    "            tree.insert('','end',values=(data[0],data[1],data[2],data[3]))\n",
    "        \n",
    "        cursor.close()\n",
    "        txt_result.config(text='Please See the Books',bg='lightGreen',fg='Black')\n",
    "    elif BOOKTITLE.get() == '':\n",
    "        txt_result.config(text='Please Enter the Book title',bg='Yellow',fg='Black')\n",
    "        \n",
    "def read():\n",
    "    tree.delete(*tree.get_children())\n",
    "    Database()\n",
    "    cursor.execute('Select * from Library')\n",
    "    fetch = cursor.fetchall()\n",
    "    for data in fetch:\n",
    "        tree.insert('','end',values=(data[0],data[1],data[2],data[3]))\n",
    "    cursor.close()\n",
    "    txt_result.config(text=\"Sucessfully fetch Data\",fg='green')\n",
    "\n",
    "def delete():\n",
    "    Database()\n",
    "    if not tree.selection():\n",
    "        txt_result.config(text='Error! Please select an item from the database',fg='red')\n",
    "        return\n",
    "    \n",
    "    current_item = tree.focus()\n",
    "    values = tree.item(current_item)\n",
    "    selection = values[\"values\"]\n",
    "    \n",
    "    cursor.execute('Delete from library Where BookTitle=?',(selection[0],))\n",
    "    conn.commit()\n",
    "    tree.delete(current_item)\n",
    "    txt_result.config(text=\"Sucessfully Deleted Data\",fg='green')\n",
    "    \n",
    "\n",
    "\n",
    "    \n",
    "def issuer_card():\n",
    "    \n",
    "    if BookTitle.get() == '':\n",
    "        txt_result.config(text='Please Enter the Book title')\n",
    "    else:\n",
    "        txt_result.config(text='Book issued')\n",
    "    \n",
    "    \n",
    "\n",
    "    \n",
    "def exit():\n",
    "    result = tkMessageBox.askquestion('Do you wat to Exit...? (y/n)',icon='warning')\n",
    "    if result == 'yes':\n",
    "        Root.destroy()\n",
    "        "
   ]
  },
  {
   "cell_type": "code",
   "execution_count": 4,
   "id": "160b4098",
   "metadata": {},
   "outputs": [],
   "source": [
    "BOOKTITLE = StringVar()\n",
    "AUTHOR    = StringVar()\n",
    "YEAR      = IntVar()\n",
    "ISBN      = StringVar()\n",
    "BOOKST    = StringVar()\n",
    "CARDNO    = StringVar()"
   ]
  },
  {
   "cell_type": "code",
   "execution_count": 5,
   "id": "db3c310f",
   "metadata": {},
   "outputs": [],
   "source": [
    "Top = Frame(Root,width=900,height=50,bd=8,bg='blue',relief='raise')\n",
    "Top.pack(side=TOP)\n",
    "Left = Frame(Root, width=400,height=400,bd=8,bg='Red',relief='raise')\n",
    "Left.pack(side=LEFT)\n",
    "Right = Frame(Root, width=300,height=300,bd=8,bg='Yellow',relief='raise')\n",
    "Right.pack(side=RIGHT)\n",
    "\n",
    "Forms = Frame(Left,width=300,height=450)\n",
    "Forms.pack(side=TOP)\n",
    "\n",
    "Buttons = Frame(Left,width=300,height=80,bd=8,relief='raise')\n",
    "Buttons.pack(side=BOTTOM)\n",
    "\n"
   ]
  },
  {
   "cell_type": "code",
   "execution_count": 6,
   "id": "06ca26ec",
   "metadata": {},
   "outputs": [],
   "source": [
    "txt_title=Label(Top,width=200,font=('arial',24),text= '....Library Management System....')\n",
    "txt_title.pack()\n",
    "txt_booktitle=Label(Forms,text='Book Title',font=('arial',16),bd=15)\n",
    "txt_booktitle.grid(row=0,stick='e')\n",
    "txt_Author=Label(Forms,text='Author',font=('arial',16),bd=15)\n",
    "txt_Author.grid(row=1,stick='e')\n",
    "txt_year=Label(Forms,text='Year',font=('arial',16),bd=15)\n",
    "txt_year.grid(row=2,stick='e')\n",
    "txt_isbn=Label(Forms,text='ISBN',font=('arial',16),bd=15)\n",
    "txt_isbn.grid(row=3,stick='e')\n",
    "txt_result = Label(Buttons)\n",
    "txt_result.pack(side=TOP)\n",
    "\n",
    "BookTitle     = Entry(Forms,textvariable=BOOKTITLE,width=30)\n",
    "BookTitle.grid(row=0,column=1)\n",
    "Author        = Entry(Forms,textvariable=AUTHOR,width=30)\n",
    "Author.grid(row=1,column=1)\n",
    "Year          = Entry(Forms,textvariable=YEAR,width=30)\n",
    "Year.grid(row=2,column=1)\n",
    "Isbn          = Entry(Forms,textvariable=ISBN,width=30)\n",
    "Isbn.grid(row=3,column=1)\n",
    "\n",
    "\n",
    "btn_display   = Button(Buttons,width=10,text='Display',command=read)\n",
    "btn_display.pack(side=LEFT)\n",
    "btn_search    = Button(Buttons,width=10,text='Search',command=search)\n",
    "btn_search.pack(side=LEFT)\n",
    "btn_add       = Button(Buttons,width=10,text='Add',command=create)\n",
    "btn_add.pack(side=LEFT)\n",
    "btn_issue     = Button(Buttons,width=10,text='Issue',command=issuer_card)\n",
    "btn_issue.pack(side=LEFT)\n",
    "btn_delete    = Button(Buttons,width=10,text='Delete',command=delete)\n",
    "btn_delete.pack(side=LEFT)\n",
    "btn_exit      = Button(Buttons,width=10,text='Exit',command=exit)\n",
    "btn_exit.pack(side=LEFT)\n",
    "\n",
    "scrollbary = Scrollbar(Right,orient=VERTICAL)\n",
    "scrollbarx = Scrollbar(Right, orient=HORIZONTAL)\n",
    "\n",
    "tree = ttk.Treeview(Right, columns=(\"BookTitle\", \"Author\",\"Year\", \"ISBN\"))\n",
    "\n",
    "scrollbary.config(command=tree.yview)\n",
    "scrollbary.pack(side=RIGHT, fill=Y)\n",
    "scrollbarx.config(command=tree.xview)\n",
    "scrollbarx.pack(side=BOTTOM, fill=X)\n",
    "tree.heading('BookTitle',text=\"Book Title\",anchor=W)\n",
    "tree.heading('Author',text=\"Author\",anchor=W)\n",
    "tree.heading('Year',text=\"Year\",anchor=W)\n",
    "tree.heading('ISBN',text=\"ISBN\",anchor=W)\n",
    "tree.column('#0', stretch=NO, minwidth=0, width=0)\n",
    "tree.column('#1', stretch=NO, minwidth=0, width=150)\n",
    "tree.column('#2', stretch=NO, minwidth=0, width=150)\n",
    "tree.column('#3', stretch=NO, minwidth=0, width=200)\n",
    "tree.column('#4', stretch=NO, minwidth=0, width=200)\n",
    "\n",
    "tree.pack()"
   ]
  },
  {
   "cell_type": "code",
   "execution_count": 7,
   "id": "6aea3cc8",
   "metadata": {},
   "outputs": [
    {
     "name": "stderr",
     "output_type": "stream",
     "text": [
      "2023-10-24 12:14:15.030 python[18776:1542343] Warning: Expected min height of view: (<NSButton: 0x7f9adf660be0>) to be less than or equal to 30 but got a height of 32.000000. This error will be logged once per view in violation.\n",
      "2023-10-24 12:14:15.031 python[18776:1542343] Warning: Expected min height of view: (<NSButton: 0x7f9adf65dd10>) to be less than or equal to 30 but got a height of 32.000000. This error will be logged once per view in violation.\n"
     ]
    }
   ],
   "source": [
    "if __name__ == '__main__':\n",
    "    Root.mainloop()"
   ]
  },
  {
   "cell_type": "code",
   "execution_count": null,
   "id": "4a4ca392",
   "metadata": {},
   "outputs": [],
   "source": []
  }
 ],
 "metadata": {
  "kernelspec": {
   "display_name": "Python 3 (ipykernel)",
   "language": "python",
   "name": "python3"
  },
  "language_info": {
   "codemirror_mode": {
    "name": "ipython",
    "version": 3
   },
   "file_extension": ".py",
   "mimetype": "text/x-python",
   "name": "python",
   "nbconvert_exporter": "python",
   "pygments_lexer": "ipython3",
   "version": "3.9.13"
  }
 },
 "nbformat": 4,
 "nbformat_minor": 5
}
